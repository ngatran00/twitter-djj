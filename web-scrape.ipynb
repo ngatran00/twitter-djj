{
 "cells": [
  {
   "cell_type": "code",
   "execution_count": 70,
   "metadata": {},
   "outputs": [],
   "source": [
    "import GetOldTweets3 as got\n",
    "import pandas as pd\n",
    "import datetime"
   ]
  },
  {
   "cell_type": "code",
   "execution_count": 19,
   "metadata": {},
   "outputs": [],
   "source": [
    "username = 'potus44'\n",
    "count = 50000\n",
    "# Creation of query object\n",
    "tweetCriteria_potus44 = got.manager.TweetCriteria().setUsername(username)\\\n",
    "                                        .setMaxTweets(count)\n",
    "# Creation of list that contains all tweets\n",
    "tweets_potus44 = got.manager.TweetManager.getTweets(tweetCriteria_potus44)\n",
    "# Creating list of chosen tweet data\n",
    "user_tweets_potus44 = [[tweet.date, tweet.text] for tweet in tweets_potus44]"
   ]
  },
  {
   "cell_type": "code",
   "execution_count": 20,
   "metadata": {},
   "outputs": [],
   "source": [
    "username = 'barackobama'\n",
    "count = 50000\n",
    "\n",
    "tweetCriteria_bo = got.manager.TweetCriteria().setUsername(username)\\\n",
    "                                           .setSince(\"2009-01-20\")\\\n",
    "                                           .setUntil(\"2017-01-20\")\\\n",
    "                                           .setMaxTweets(count)\n",
    "tweets_bo = got.manager.TweetManager.getTweets(tweetCriteria_bo)\n",
    "user_tweets_bo = [[tweet.date, tweet.text] for tweet in tweets_bo]"
   ]
  },
  {
   "cell_type": "code",
   "execution_count": 30,
   "metadata": {},
   "outputs": [],
   "source": [
    "username = 'potus'\n",
    "count = 50000\n",
    "# Creation of query object\n",
    "tweetCriteria_potus = got.manager.TweetCriteria().setUsername(username)\\\n",
    "                                        .setMaxTweets(count)\n",
    "# Creation of list that contains all tweets\n",
    "tweets_potus = got.manager.TweetManager.getTweets(tweetCriteria_potus)\n",
    "# Creating list of chosen tweet data\n",
    "user_tweets_potus = [[tweet.date, tweet.text] for tweet in tweets_potus]"
   ]
  },
  {
   "cell_type": "code",
   "execution_count": 37,
   "metadata": {},
   "outputs": [],
   "source": [
    "username = 'realDonaldTrump'\n",
    "count = 50000\n",
    "\n",
    "tweetCriteria_dt = got.manager.TweetCriteria().setUsername(username)\\\n",
    "                                            .setSince(\"2017-01-20\")\\\n",
    "                                            .setUntil(\"2020-05-31\")\\\n",
    "                                            .setMaxTweets(count)\n",
    "tweets_dt = got.manager.TweetManager.getTweets(tweetCriteria_dt)\n",
    "user_tweets_dt = [[tweet.date, tweet.text] for tweet in tweets_dt]"
   ]
  },
  {
   "cell_type": "code",
   "execution_count": 148,
   "metadata": {},
   "outputs": [],
   "source": [
    "tweets = sorted(user_tweets_potus44 + user_tweets_bo + user_tweets_potus + user_tweets_dt)\n",
    "\n",
    "post_date = [x[0] for x in tweets]\n",
    "\n",
    "post_tweet = [x[1] for x in tweets]\n",
    "\n",
    "tweets_dict = {}\n",
    "\n",
    "for date in post_date:\n",
    "    just_date = date.date()\n",
    "    if just_date not in tweets_dict:\n",
    "        tweets_dict[just_date] = post_tweet[post_date.index(date)]\n",
    "    else:\n",
    "        t = post_tweet[post_date.index(date)]\n",
    "        if t in tweets_dict[just_date]:\n",
    "            pass\n",
    "        else:\n",
    "            tweets_dict[just_date] = \" \".join([tweets_dict[just_date], t])"
   ]
  },
  {
   "cell_type": "code",
   "execution_count": 196,
   "metadata": {},
   "outputs": [],
   "source": [
    "d = [x.strftime('%m/%d/%Y') for x in tweets_dict.keys()][::-1]\n",
    "t = list(tweets_dict.values())[::-1]\n",
    "\n",
    "df_tweet = pd.DataFrame()\n",
    "df_tweet[\"Date\"] = d\n",
    "# df_tweet[\"Date\"] = df_tweet[\"Date\"].dt.strftime('%m/%d/%Y')\n",
    "df_tweet[\"Tweet\"] = t"
   ]
  },
  {
   "cell_type": "markdown",
   "metadata": {},
   "source": [
    "Historical Prices of DJJ retrieved from https://www.wsj.com/market-data/quotes/index/DJIA/historical-prices"
   ]
  },
  {
   "cell_type": "code",
   "execution_count": 224,
   "metadata": {},
   "outputs": [],
   "source": [
    "text_path = \"HistoricalPrices.csv\"\n",
    "df = pd.read_csv(text_path)\n",
    "df = df.drop(' High', 1)\n",
    "df = df.drop(' Low', 1)\n",
    "df['change'] = (df[\" Close\"] - df[\" Open\"])*100/df[\" Open\"]\n",
    "df = df.round(2)\n",
    "df = df.drop(' Open', 1)\n",
    "df = df.drop(' Close', 1)\n",
    "df[\"Date\"] = pd.to_datetime(df[\"Date\"]).dt.strftime('%m/%d/%Y')"
   ]
  },
  {
   "cell_type": "code",
   "execution_count": 226,
   "metadata": {},
   "outputs": [],
   "source": [
    "df_merge = pd.merge(df_tweet, df, on='Date')\n",
    "df_merge = df_merge.drop(\"Date\", 1)"
   ]
  },
  {
   "cell_type": "code",
   "execution_count": 228,
   "metadata": {},
   "outputs": [],
   "source": [
    "df_merge.to_csv('tweet&price.csv', encoding='utf-8', index=False)"
   ]
  },
  {
   "cell_type": "code",
   "execution_count": null,
   "metadata": {},
   "outputs": [],
   "source": []
  }
 ],
 "metadata": {
  "kernelspec": {
   "display_name": "Python 3",
   "language": "python",
   "name": "python3"
  },
  "language_info": {
   "codemirror_mode": {
    "name": "ipython",
    "version": 3
   },
   "file_extension": ".py",
   "mimetype": "text/x-python",
   "name": "python",
   "nbconvert_exporter": "python",
   "pygments_lexer": "ipython3",
   "version": "3.7.6"
  }
 },
 "nbformat": 4,
 "nbformat_minor": 4
}
