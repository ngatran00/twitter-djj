{
 "cells": [
  {
   "cell_type": "code",
   "execution_count": 4,
   "metadata": {},
   "outputs": [],
   "source": [
    "import GetOldTweets3 as got\n",
    "import pandas as pd\n",
    "import datetime"
   ]
  },
  {
   "cell_type": "code",
   "execution_count": 5,
   "metadata": {},
   "outputs": [],
   "source": [
    "username = 'potus44'\n",
    "count = 50000\n",
    "# Creation of query object\n",
    "tweetCriteria_potus44 = got.manager.TweetCriteria().setUsername(username)\\\n",
    "                                        .setMaxTweets(count)\n",
    "# Creation of list that contains all tweets\n",
    "tweets_potus44 = got.manager.TweetManager.getTweets(tweetCriteria_potus44)\n",
    "# Creating list of chosen tweet data\n",
    "user_tweets_potus44 = [[tweet.date.date(), tweet.text] for tweet in tweets_potus44]"
   ]
  },
  {
   "cell_type": "code",
   "execution_count": 6,
   "metadata": {},
   "outputs": [],
   "source": [
    "username = 'barackobama'\n",
    "count = 50000\n",
    "\n",
    "tweetCriteria_bo = got.manager.TweetCriteria().setUsername(username)\\\n",
    "                                           .setSince(\"2009-01-20\")\\\n",
    "                                           .setUntil(\"2017-01-20\")\\\n",
    "                                           .setMaxTweets(count)\n",
    "tweets_bo = got.manager.TweetManager.getTweets(tweetCriteria_bo)\n",
    "user_tweets_bo = [[tweet.date.date(), tweet.text] for tweet in tweets_bo]"
   ]
  },
  {
   "cell_type": "code",
   "execution_count": 9,
   "metadata": {},
   "outputs": [],
   "source": [
    "username = 'potus'\n",
    "count = 50000\n",
    "# Creation of query object\n",
    "tweetCriteria_potus = got.manager.TweetCriteria().setUsername(username)\\\n",
    "                                        .setMaxTweets(count)\n",
    "# Creation of list that contains all tweets\n",
    "tweets_potus = got.manager.TweetManager.getTweets(tweetCriteria_potus)\n",
    "# Creating list of chosen tweet data\n",
    "user_tweets_potus = [[tweet.date.date(), tweet.text] for tweet in tweets_potus]"
   ]
  },
  {
   "cell_type": "code",
   "execution_count": 10,
   "metadata": {},
   "outputs": [],
   "source": [
    "username = 'realDonaldTrump'\n",
    "count = 50000\n",
    "\n",
    "tweetCriteria_dt = got.manager.TweetCriteria().setUsername(username)\\\n",
    "                                            .setSince(\"2017-01-20\")\\\n",
    "                                            .setUntil(\"2020-05-31\")\\\n",
    "                                            .setMaxTweets(count)\n",
    "tweets_dt = got.manager.TweetManager.getTweets(tweetCriteria_dt)\n",
    "user_tweets_dt = [[tweet.date.date(), tweet.text] for tweet in tweets_dt]"
   ]
  },
  {
   "cell_type": "code",
   "execution_count": 26,
   "metadata": {},
   "outputs": [
    {
     "data": {
      "text/plain": [
       "19233"
      ]
     },
     "execution_count": 26,
     "metadata": {},
     "output_type": "execute_result"
    }
   ],
   "source": [
    "tweets = sorted(user_tweets_potus44 + user_tweets_bo  + user_tweets_potus + user_tweets_dt)\n",
    "\n",
    "len(tweets)"
   ]
  },
  {
   "cell_type": "code",
   "execution_count": 27,
   "metadata": {},
   "outputs": [],
   "source": [
    "d = [x[0].strftime('%m/%d/%Y') for x in tweets][::-1]\n",
    "t = [x[1] for x in tweets][::-1]"
   ]
  },
  {
   "cell_type": "code",
   "execution_count": 28,
   "metadata": {},
   "outputs": [],
   "source": [
    "tweet_dict = {}\n",
    "\n",
    "for i, d_value in enumerate(d):\n",
    "    if d_value not in tweet_dict:\n",
    "        tweet_dict[d_value] = t[i]\n",
    "    else:\n",
    "        tweet_dict[d_value] = \" \".join([tweet_dict[d_value], t[i]])"
   ]
  },
  {
   "cell_type": "code",
   "execution_count": 29,
   "metadata": {},
   "outputs": [],
   "source": [
    "d = tweet_dict.keys()\n",
    "t = tweet_dict.values()\n",
    "\n",
    "df_tweet = pd.DataFrame()\n",
    "df_tweet[\"Date\"] = d\n",
    "# df_tweet[\"Date\"] = df_tweet[\"Date\"].dt.strftime('%m/%d/%Y')\n",
    "df_tweet[\"Tweet\"] = t"
   ]
  },
  {
   "cell_type": "markdown",
   "metadata": {},
   "source": [
    "Historical Prices of DJJ retrieved from https://www.wsj.com/market-data/quotes/index/DJIA/historical-prices"
   ]
  },
  {
   "cell_type": "code",
   "execution_count": 30,
   "metadata": {},
   "outputs": [],
   "source": [
    "text_path = \"HistoricalPrices.csv\"\n",
    "df = pd.read_csv(text_path)\n",
    "df = df.drop(' High', 1)\n",
    "df = df.drop(' Low', 1)\n",
    "df['change'] = (df[\" Close\"] - df[\" Open\"])*100/df[\" Open\"]\n",
    "df = df.round(2)\n",
    "df = df.drop(' Open', 1)\n",
    "df = df.drop(' Close', 1)\n",
    "df[\"Date\"] = pd.to_datetime(df[\"Date\"]).dt.strftime('%m/%d/%Y')"
   ]
  },
  {
   "cell_type": "code",
   "execution_count": 31,
   "metadata": {},
   "outputs": [
    {
     "data": {
      "text/html": [
       "<div>\n",
       "<style scoped>\n",
       "    .dataframe tbody tr th:only-of-type {\n",
       "        vertical-align: middle;\n",
       "    }\n",
       "\n",
       "    .dataframe tbody tr th {\n",
       "        vertical-align: top;\n",
       "    }\n",
       "\n",
       "    .dataframe thead th {\n",
       "        text-align: right;\n",
       "    }\n",
       "</style>\n",
       "<table border=\"1\" class=\"dataframe\">\n",
       "  <thead>\n",
       "    <tr style=\"text-align: right;\">\n",
       "      <th></th>\n",
       "      <th>Date</th>\n",
       "      <th>change</th>\n",
       "    </tr>\n",
       "  </thead>\n",
       "  <tbody>\n",
       "    <tr>\n",
       "      <th>0</th>\n",
       "      <td>05/29/2020</td>\n",
       "      <td>0.23</td>\n",
       "    </tr>\n",
       "    <tr>\n",
       "      <th>1</th>\n",
       "      <td>05/28/2020</td>\n",
       "      <td>-1.15</td>\n",
       "    </tr>\n",
       "    <tr>\n",
       "      <th>2</th>\n",
       "      <td>05/27/2020</td>\n",
       "      <td>0.99</td>\n",
       "    </tr>\n",
       "    <tr>\n",
       "      <th>3</th>\n",
       "      <td>05/26/2020</td>\n",
       "      <td>0.86</td>\n",
       "    </tr>\n",
       "    <tr>\n",
       "      <th>4</th>\n",
       "      <td>05/22/2020</td>\n",
       "      <td>0.01</td>\n",
       "    </tr>\n",
       "  </tbody>\n",
       "</table>\n",
       "</div>"
      ],
      "text/plain": [
       "         Date  change\n",
       "0  05/29/2020    0.23\n",
       "1  05/28/2020   -1.15\n",
       "2  05/27/2020    0.99\n",
       "3  05/26/2020    0.86\n",
       "4  05/22/2020    0.01"
      ]
     },
     "execution_count": 31,
     "metadata": {},
     "output_type": "execute_result"
    }
   ],
   "source": [
    "df.head(5)"
   ]
  },
  {
   "cell_type": "code",
   "execution_count": 32,
   "metadata": {},
   "outputs": [],
   "source": [
    "df_merge = pd.merge(df_tweet, df, on='Date')\n",
    "df_merge = df_merge.drop(\"Date\", 1)"
   ]
  },
  {
   "cell_type": "code",
   "execution_count": 33,
   "metadata": {},
   "outputs": [],
   "source": [
    "df_merge.to_csv('tweet&price.csv', encoding='utf-8', index=False)"
   ]
  },
  {
   "cell_type": "code",
   "execution_count": null,
   "metadata": {},
   "outputs": [],
   "source": []
  }
 ],
 "metadata": {
  "kernelspec": {
   "display_name": "Python 3",
   "language": "python",
   "name": "python3"
  },
  "language_info": {
   "codemirror_mode": {
    "name": "ipython",
    "version": 3
   },
   "file_extension": ".py",
   "mimetype": "text/x-python",
   "name": "python",
   "nbconvert_exporter": "python",
   "pygments_lexer": "ipython3",
   "version": "3.7.6"
  }
 },
 "nbformat": 4,
 "nbformat_minor": 4
}
